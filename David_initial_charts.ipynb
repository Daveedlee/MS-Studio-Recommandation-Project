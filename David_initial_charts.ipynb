{
 "cells": [
  {
   "cell_type": "markdown",
   "metadata": {},
   "source": [
    "# Setting up a basic workstation; import pandas, seaborn, matplot, fractions"
   ]
  },
  {
   "cell_type": "code",
   "execution_count": 3,
   "metadata": {},
   "outputs": [],
   "source": [
    "import matplotlib.pyplot as plt\n",
    "import seaborn as sns\n",
    "import numpy as np\n",
    "import pandas as pd\n",
    "from fractions import Fraction as ft\n",
    "\n",
    "original_df = pd.read_csv(\"rt.reviews.tsv\",encoding='windows-1254',delimiter = '\\t')\n",
    "df = original_df.copy()\n",
    "original_df2 = pd.read_csv('rt.movie_info.tsv',encoding='windows-1254',delimiter = '\\t')\n",
    "df2 = original_df2.copy()"
   ]
  },
  {
   "cell_type": "markdown",
   "metadata": {},
   "source": [
    "## Define two functions that will help with cleaning up data"
   ]
  },
  {
   "cell_type": "code",
   "execution_count": 4,
   "metadata": {},
   "outputs": [],
   "source": [
    "def convert(s):\n",
    "    try:\n",
    "        return float(s)\n",
    "    except ValueError:\n",
    "        num, denom = s.split('/')\n",
    "        return float(num) / float(denom)"
   ]
  },
  {
   "cell_type": "code",
   "execution_count": 5,
   "metadata": {},
   "outputs": [],
   "source": [
    "def isFloat(string):\n",
    "    try:\n",
    "        float(string)\n",
    "        return True\n",
    "    except ValueError:\n",
    "        return False"
   ]
  },
  {
   "cell_type": "code",
   "execution_count": 6,
   "metadata": {},
   "outputs": [],
   "source": [
    "merged_df = df.merge(df2,on='id').copy()"
   ]
  },
  {
   "cell_type": "code",
   "execution_count": 7,
   "metadata": {},
   "outputs": [],
   "source": [
    "merged_df.rating_x = merged_df.rating_x.astype(str)"
   ]
  },
  {
   "cell_type": "code",
   "execution_count": 8,
   "metadata": {},
   "outputs": [],
   "source": [
    "merged_df.drop(merged_df[merged_df['rating_x'] == 'N'].index,inplace=True)"
   ]
  },
  {
   "cell_type": "code",
   "execution_count": 9,
   "metadata": {},
   "outputs": [],
   "source": [
    "merged_df.drop(merged_df[merged_df['rating_x'] == 'R'].index,inplace=True)"
   ]
  },
  {
   "cell_type": "code",
   "execution_count": 10,
   "metadata": {},
   "outputs": [],
   "source": [
    "merged_df.drop(merged_df[merged_df['rating_x'] == 'T'].index,inplace=True)"
   ]
  },
  {
   "cell_type": "code",
   "execution_count": 11,
   "metadata": {},
   "outputs": [],
   "source": [
    "merged_df.rating_x.drop(merged_df[merged_df['rating_x'] == '1-5'].index, inplace = True)"
   ]
  },
  {
   "cell_type": "code",
   "execution_count": 12,
   "metadata": {},
   "outputs": [],
   "source": [
    "merged_df.rating_x.replace(to_replace = '3 1/2', value = 3.5, inplace = True)"
   ]
  },
  {
   "cell_type": "code",
   "execution_count": 13,
   "metadata": {},
   "outputs": [],
   "source": [
    "merged_df.rating_x.replace(to_replace = 'F-', value = 0, inplace = True)"
   ]
  },
  {
   "cell_type": "code",
   "execution_count": 14,
   "metadata": {},
   "outputs": [],
   "source": [
    "for x in merged_df.rating_x:\n",
    "    try:\n",
    "        merged_df.rating_x.replace(x,convert(x),inplace=True)\n",
    "    except ValueError:\n",
    "        pass"
   ]
  },
  {
   "cell_type": "code",
   "execution_count": 15,
   "metadata": {},
   "outputs": [],
   "source": [
    "merged_df['rating_x'] = merged_df.rating_x.astype(str)"
   ]
  },
  {
   "cell_type": "code",
   "execution_count": 16,
   "metadata": {},
   "outputs": [],
   "source": [
    "letter_grades = []\n",
    "for x in merged_df.rating_x:\n",
    "    if not(isFloat(x)):\n",
    "        letter_grades.append(x)"
   ]
  },
  {
   "cell_type": "code",
   "execution_count": 17,
   "metadata": {},
   "outputs": [
    {
     "data": {
      "text/plain": [
       "{'A', 'A+', 'A-', 'B', 'B+', 'B-', 'C', 'C+', 'C-', 'D', 'D+', 'D-', 'F', 'F+'}"
      ]
     },
     "execution_count": 17,
     "metadata": {},
     "output_type": "execute_result"
    }
   ],
   "source": [
    "set(letter_grades)"
   ]
  },
  {
   "cell_type": "code",
   "execution_count": 18,
   "metadata": {},
   "outputs": [],
   "source": [
    "for x in merged_df.rating_x:\n",
    "    for y in letter_grades:\n",
    "        if x == y:\n",
    "            if x == 'A':\n",
    "                merged_df.rating_x.replace(to_replace='A',value=9,inplace=True)\n",
    "            elif x == 'A+':\n",
    "                merged_df.rating_x.replace(to_replace='A+',value=10,inplace=True)\n",
    "            elif x == 'A-':\n",
    "                merged_df.rating_x.replace(to_replace='A-',value=8.5,inplace=True)\n",
    "            elif x =='B+':\n",
    "                merged_df.rating_x.replace(to_replace='B+',value=8,inplace=True)\n",
    "            elif x == 'B':\n",
    "                merged_df.rating_x.replace(to_replace='B',value=7,inplace=True)\n",
    "            elif x == 'B-':\n",
    "                merged_df.rating_x.replace(to_replace='B-',value=6.5,inplace=True)\n",
    "            elif x == 'C+':\n",
    "                merged_df.rating_x.replace(to_replace='C+',value=6,inplace=True)    \n",
    "            elif x == 'C':\n",
    "                merged_df.rating_x.replace(to_replace='C',value=5,inplace=True)\n",
    "            elif x == 'C-':\n",
    "                merged_df.rating_x.replace(to_replace='C-',value=4.5,inplace=True)\n",
    "            elif x == 'D+':\n",
    "                merged_df.rating_x.replace(to_replace='D+',value=4,inplace=True)\n",
    "            elif x == 'D':\n",
    "                merged_df.rating_x.replace(to_replace='D',value=3,inplace=True)\n",
    "            elif x == 'D-':\n",
    "                merged_df.rating_x.replace(to_replace='D-',value=2.5,inplace=True)\n",
    "            elif x == 'F+':\n",
    "                merged_df.rating_x.replace(to_replace='F+',value=2,inplace=True)\n",
    "            elif x == 'F':\n",
    "                merged_df.rating_x.replace(to_replace='F',value=1,inplace=True)"
   ]
  },
  {
   "cell_type": "code",
   "execution_count": 19,
   "metadata": {},
   "outputs": [],
   "source": [
    "merged_df = merged_df[pd.notnull(merged_df['rating_x'])]"
   ]
  },
  {
   "cell_type": "code",
   "execution_count": 20,
   "metadata": {},
   "outputs": [],
   "source": [
    "merged_df.rating_x = merged_df['rating_x'].astype('float64')"
   ]
  },
  {
   "cell_type": "code",
   "execution_count": 21,
   "metadata": {},
   "outputs": [],
   "source": [
    "merged_df_box = merged_df.copy()"
   ]
  },
  {
   "cell_type": "code",
   "execution_count": 22,
   "metadata": {},
   "outputs": [],
   "source": [
    "merged_df_box.dropna(subset=['box_office'], inplace=True)"
   ]
  },
  {
   "cell_type": "code",
   "execution_count": 23,
   "metadata": {},
   "outputs": [],
   "source": [
    "group_id_mean = merged_df_box.groupby('id').mean()"
   ]
  },
  {
   "cell_type": "code",
   "execution_count": 24,
   "metadata": {},
   "outputs": [],
   "source": [
    "group_id_max = merged_df_box.groupby('id').max()"
   ]
  },
  {
   "cell_type": "code",
   "execution_count": 25,
   "metadata": {},
   "outputs": [
    {
     "data": {
      "text/html": [
       "<div>\n",
       "<style scoped>\n",
       "    .dataframe tbody tr th:only-of-type {\n",
       "        vertical-align: middle;\n",
       "    }\n",
       "\n",
       "    .dataframe tbody tr th {\n",
       "        vertical-align: top;\n",
       "    }\n",
       "\n",
       "    .dataframe thead th {\n",
       "        text-align: right;\n",
       "    }\n",
       "</style>\n",
       "<table border=\"1\" class=\"dataframe\">\n",
       "  <thead>\n",
       "    <tr style=\"text-align: right;\">\n",
       "      <th></th>\n",
       "      <th>rating_x</th>\n",
       "      <th>fresh</th>\n",
       "      <th>top_critic</th>\n",
       "      <th>date</th>\n",
       "      <th>synopsis</th>\n",
       "      <th>rating_y</th>\n",
       "      <th>genre</th>\n",
       "      <th>director</th>\n",
       "      <th>writer</th>\n",
       "      <th>theater_date</th>\n",
       "      <th>dvd_date</th>\n",
       "      <th>currency</th>\n",
       "      <th>box_office</th>\n",
       "      <th>runtime</th>\n",
       "      <th>studio</th>\n",
       "    </tr>\n",
       "    <tr>\n",
       "      <th>id</th>\n",
       "      <th></th>\n",
       "      <th></th>\n",
       "      <th></th>\n",
       "      <th></th>\n",
       "      <th></th>\n",
       "      <th></th>\n",
       "      <th></th>\n",
       "      <th></th>\n",
       "      <th></th>\n",
       "      <th></th>\n",
       "      <th></th>\n",
       "      <th></th>\n",
       "      <th></th>\n",
       "      <th></th>\n",
       "      <th></th>\n",
       "    </tr>\n",
       "  </thead>\n",
       "  <tbody>\n",
       "    <tr>\n",
       "      <td>3</td>\n",
       "      <td>8.5</td>\n",
       "      <td>rotten</td>\n",
       "      <td>1</td>\n",
       "      <td>September 7, 2012</td>\n",
       "      <td>New York City, not-too-distant-future: Eric Pa...</td>\n",
       "      <td>R</td>\n",
       "      <td>Drama|Science Fiction and Fantasy</td>\n",
       "      <td>David Cronenberg</td>\n",
       "      <td>David Cronenberg|Don DeLillo</td>\n",
       "      <td>Aug 17, 2012</td>\n",
       "      <td>Jan 1, 2013</td>\n",
       "      <td>$</td>\n",
       "      <td>600,000</td>\n",
       "      <td>108 minutes</td>\n",
       "      <td>Entertainment One</td>\n",
       "    </tr>\n",
       "    <tr>\n",
       "      <td>10</td>\n",
       "      <td>8.0</td>\n",
       "      <td>rotten</td>\n",
       "      <td>1</td>\n",
       "      <td>September 13, 2002</td>\n",
       "      <td>Some cast and crew from NBC's highly acclaimed...</td>\n",
       "      <td>PG-13</td>\n",
       "      <td>Comedy</td>\n",
       "      <td>Jake Kasdan</td>\n",
       "      <td>Mike White</td>\n",
       "      <td>Jan 11, 2002</td>\n",
       "      <td>Jun 18, 2002</td>\n",
       "      <td>$</td>\n",
       "      <td>41,032,915</td>\n",
       "      <td>82 minutes</td>\n",
       "      <td>Paramount Pictures</td>\n",
       "    </tr>\n",
       "    <tr>\n",
       "      <td>13</td>\n",
       "      <td>8.0</td>\n",
       "      <td>rotten</td>\n",
       "      <td>1</td>\n",
       "      <td>September 27, 2006</td>\n",
       "      <td>Stewart Kane, an Irishman living in the Austra...</td>\n",
       "      <td>R</td>\n",
       "      <td>Drama</td>\n",
       "      <td>Ray Lawrence</td>\n",
       "      <td>Raymond Carver|Beatrix Christian</td>\n",
       "      <td>Apr 27, 2006</td>\n",
       "      <td>Oct 2, 2007</td>\n",
       "      <td>$</td>\n",
       "      <td>224,114</td>\n",
       "      <td>123 minutes</td>\n",
       "      <td>Sony Pictures Classics</td>\n",
       "    </tr>\n",
       "    <tr>\n",
       "      <td>14</td>\n",
       "      <td>7.0</td>\n",
       "      <td>rotten</td>\n",
       "      <td>1</td>\n",
       "      <td>October 12, 2010</td>\n",
       "      <td>\"Love Ranch\" is a bittersweet love story that ...</td>\n",
       "      <td>R</td>\n",
       "      <td>Drama</td>\n",
       "      <td>Taylor Hackford</td>\n",
       "      <td>Mark Jacobson</td>\n",
       "      <td>Jun 30, 2010</td>\n",
       "      <td>Nov 9, 2010</td>\n",
       "      <td>$</td>\n",
       "      <td>134,904</td>\n",
       "      <td>117 minutes</td>\n",
       "      <td>NaN</td>\n",
       "    </tr>\n",
       "    <tr>\n",
       "      <td>23</td>\n",
       "      <td>10.0</td>\n",
       "      <td>rotten</td>\n",
       "      <td>1</td>\n",
       "      <td>September 6, 2017</td>\n",
       "      <td>A fictional film set in the alluring world of ...</td>\n",
       "      <td>R</td>\n",
       "      <td>Drama</td>\n",
       "      <td>NaN</td>\n",
       "      <td>NaN</td>\n",
       "      <td>Dec 20, 2013</td>\n",
       "      <td>Mar 18, 2014</td>\n",
       "      <td>$</td>\n",
       "      <td>99,165,609</td>\n",
       "      <td>129 minutes</td>\n",
       "      <td>Sony Pictures</td>\n",
       "    </tr>\n",
       "    <tr>\n",
       "      <td>...</td>\n",
       "      <td>...</td>\n",
       "      <td>...</td>\n",
       "      <td>...</td>\n",
       "      <td>...</td>\n",
       "      <td>...</td>\n",
       "      <td>...</td>\n",
       "      <td>...</td>\n",
       "      <td>...</td>\n",
       "      <td>...</td>\n",
       "      <td>...</td>\n",
       "      <td>...</td>\n",
       "      <td>...</td>\n",
       "      <td>...</td>\n",
       "      <td>...</td>\n",
       "      <td>...</td>\n",
       "    </tr>\n",
       "    <tr>\n",
       "      <td>1976</td>\n",
       "      <td>9.8</td>\n",
       "      <td>rotten</td>\n",
       "      <td>1</td>\n",
       "      <td>September 27, 2017</td>\n",
       "      <td>Embrace of the Serpent features the encounter,...</td>\n",
       "      <td>NR</td>\n",
       "      <td>Action and Adventure|Art House and International</td>\n",
       "      <td>Ciro Guerra</td>\n",
       "      <td>Ciro Guerra|Jacques Toulemonde Vidal</td>\n",
       "      <td>Feb 17, 2016</td>\n",
       "      <td>Jun 21, 2016</td>\n",
       "      <td>$</td>\n",
       "      <td>1,320,005</td>\n",
       "      <td>123 minutes</td>\n",
       "      <td>Buffalo Films</td>\n",
       "    </tr>\n",
       "    <tr>\n",
       "      <td>1980</td>\n",
       "      <td>10.0</td>\n",
       "      <td>rotten</td>\n",
       "      <td>1</td>\n",
       "      <td>September 8, 2005</td>\n",
       "      <td>A band of renegades on the run in outer space ...</td>\n",
       "      <td>PG-13</td>\n",
       "      <td>Action and Adventure|Science Fiction and Fantasy</td>\n",
       "      <td>Joss Whedon</td>\n",
       "      <td>Joss Whedon</td>\n",
       "      <td>Sep 30, 2005</td>\n",
       "      <td>Dec 20, 2005</td>\n",
       "      <td>$</td>\n",
       "      <td>25,335,935</td>\n",
       "      <td>119 minutes</td>\n",
       "      <td>Universal Pictures</td>\n",
       "    </tr>\n",
       "    <tr>\n",
       "      <td>1981</td>\n",
       "      <td>0.6</td>\n",
       "      <td>rotten</td>\n",
       "      <td>1</td>\n",
       "      <td>October 5, 2012</td>\n",
       "      <td>Money, Fame and the Knowledge of English. In I...</td>\n",
       "      <td>NR</td>\n",
       "      <td>Comedy|Drama</td>\n",
       "      <td>Gauri Shinde</td>\n",
       "      <td>Gauri Shinde</td>\n",
       "      <td>Oct 5, 2012</td>\n",
       "      <td>Nov 20, 2012</td>\n",
       "      <td>$</td>\n",
       "      <td>1,416,189</td>\n",
       "      <td>129 minutes</td>\n",
       "      <td>Eros Entertainment</td>\n",
       "    </tr>\n",
       "    <tr>\n",
       "      <td>1986</td>\n",
       "      <td>9.0</td>\n",
       "      <td>rotten</td>\n",
       "      <td>1</td>\n",
       "      <td>October 8, 2003</td>\n",
       "      <td>Aki Kaurismaki's The Man Without a Past opens ...</td>\n",
       "      <td>PG</td>\n",
       "      <td>Art House and International|Comedy|Drama</td>\n",
       "      <td>NaN</td>\n",
       "      <td>NaN</td>\n",
       "      <td>Aug 30, 2002</td>\n",
       "      <td>Oct 7, 2003</td>\n",
       "      <td>$</td>\n",
       "      <td>794,306</td>\n",
       "      <td>97 minutes</td>\n",
       "      <td>NaN</td>\n",
       "    </tr>\n",
       "    <tr>\n",
       "      <td>1996</td>\n",
       "      <td>9.0</td>\n",
       "      <td>rotten</td>\n",
       "      <td>1</td>\n",
       "      <td>September 2, 2006</td>\n",
       "      <td>Forget terrorists or hijackers -- there's a ha...</td>\n",
       "      <td>R</td>\n",
       "      <td>Action and Adventure|Horror|Mystery and Suspense</td>\n",
       "      <td>NaN</td>\n",
       "      <td>NaN</td>\n",
       "      <td>Aug 18, 2006</td>\n",
       "      <td>Jan 2, 2007</td>\n",
       "      <td>$</td>\n",
       "      <td>33,886,034</td>\n",
       "      <td>106 minutes</td>\n",
       "      <td>New Line Cinema</td>\n",
       "    </tr>\n",
       "  </tbody>\n",
       "</table>\n",
       "<p>299 rows × 15 columns</p>\n",
       "</div>"
      ],
      "text/plain": [
       "      rating_x   fresh  top_critic                date  \\\n",
       "id                                                       \n",
       "3          8.5  rotten           1   September 7, 2012   \n",
       "10         8.0  rotten           1  September 13, 2002   \n",
       "13         8.0  rotten           1  September 27, 2006   \n",
       "14         7.0  rotten           1    October 12, 2010   \n",
       "23        10.0  rotten           1   September 6, 2017   \n",
       "...        ...     ...         ...                 ...   \n",
       "1976       9.8  rotten           1  September 27, 2017   \n",
       "1980      10.0  rotten           1   September 8, 2005   \n",
       "1981       0.6  rotten           1     October 5, 2012   \n",
       "1986       9.0  rotten           1     October 8, 2003   \n",
       "1996       9.0  rotten           1   September 2, 2006   \n",
       "\n",
       "                                               synopsis rating_y  \\\n",
       "id                                                                 \n",
       "3     New York City, not-too-distant-future: Eric Pa...        R   \n",
       "10    Some cast and crew from NBC's highly acclaimed...    PG-13   \n",
       "13    Stewart Kane, an Irishman living in the Austra...        R   \n",
       "14    \"Love Ranch\" is a bittersweet love story that ...        R   \n",
       "23    A fictional film set in the alluring world of ...        R   \n",
       "...                                                 ...      ...   \n",
       "1976  Embrace of the Serpent features the encounter,...       NR   \n",
       "1980  A band of renegades on the run in outer space ...    PG-13   \n",
       "1981  Money, Fame and the Knowledge of English. In I...       NR   \n",
       "1986  Aki Kaurismaki's The Man Without a Past opens ...       PG   \n",
       "1996  Forget terrorists or hijackers -- there's a ha...        R   \n",
       "\n",
       "                                                 genre          director  \\\n",
       "id                                                                         \n",
       "3                    Drama|Science Fiction and Fantasy  David Cronenberg   \n",
       "10                                              Comedy       Jake Kasdan   \n",
       "13                                               Drama      Ray Lawrence   \n",
       "14                                               Drama   Taylor Hackford   \n",
       "23                                               Drama               NaN   \n",
       "...                                                ...               ...   \n",
       "1976  Action and Adventure|Art House and International       Ciro Guerra   \n",
       "1980  Action and Adventure|Science Fiction and Fantasy       Joss Whedon   \n",
       "1981                                      Comedy|Drama      Gauri Shinde   \n",
       "1986          Art House and International|Comedy|Drama               NaN   \n",
       "1996  Action and Adventure|Horror|Mystery and Suspense               NaN   \n",
       "\n",
       "                                    writer  theater_date      dvd_date  \\\n",
       "id                                                                       \n",
       "3             David Cronenberg|Don DeLillo  Aug 17, 2012   Jan 1, 2013   \n",
       "10                              Mike White  Jan 11, 2002  Jun 18, 2002   \n",
       "13        Raymond Carver|Beatrix Christian  Apr 27, 2006   Oct 2, 2007   \n",
       "14                           Mark Jacobson  Jun 30, 2010   Nov 9, 2010   \n",
       "23                                     NaN  Dec 20, 2013  Mar 18, 2014   \n",
       "...                                    ...           ...           ...   \n",
       "1976  Ciro Guerra|Jacques Toulemonde Vidal  Feb 17, 2016  Jun 21, 2016   \n",
       "1980                           Joss Whedon  Sep 30, 2005  Dec 20, 2005   \n",
       "1981                          Gauri Shinde   Oct 5, 2012  Nov 20, 2012   \n",
       "1986                                   NaN  Aug 30, 2002   Oct 7, 2003   \n",
       "1996                                   NaN  Aug 18, 2006   Jan 2, 2007   \n",
       "\n",
       "     currency  box_office      runtime                  studio  \n",
       "id                                                              \n",
       "3           $     600,000  108 minutes       Entertainment One  \n",
       "10          $  41,032,915   82 minutes      Paramount Pictures  \n",
       "13          $     224,114  123 minutes  Sony Pictures Classics  \n",
       "14          $     134,904  117 minutes                     NaN  \n",
       "23          $  99,165,609  129 minutes           Sony Pictures  \n",
       "...       ...         ...          ...                     ...  \n",
       "1976        $   1,320,005  123 minutes           Buffalo Films  \n",
       "1980        $  25,335,935  119 minutes      Universal Pictures  \n",
       "1981        $   1,416,189  129 minutes      Eros Entertainment  \n",
       "1986        $     794,306   97 minutes                     NaN  \n",
       "1996        $  33,886,034  106 minutes         New Line Cinema  \n",
       "\n",
       "[299 rows x 15 columns]"
      ]
     },
     "execution_count": 25,
     "metadata": {},
     "output_type": "execute_result"
    }
   ],
   "source": [
    "group_id_max"
   ]
  },
  {
   "cell_type": "code",
   "execution_count": 26,
   "metadata": {},
   "outputs": [
    {
     "data": {
      "text/plain": [
       "Drama                                                             41\n",
       "Comedy                                                            36\n",
       "Comedy|Drama                                                      23\n",
       "Drama|Mystery and Suspense                                        12\n",
       "Comedy|Drama|Romance                                              11\n",
       "                                                                  ..\n",
       "Art House and International|Documentary|Drama|Special Interest     1\n",
       "Action and Adventure|Mystery and Suspense|Romance                  1\n",
       "Action and Adventure|Horror                                        1\n",
       "Classics|Drama                                                     1\n",
       "Action and Adventure|Horror|Science Fiction and Fantasy            1\n",
       "Name: genre, Length: 89, dtype: int64"
      ]
     },
     "execution_count": 26,
     "metadata": {},
     "output_type": "execute_result"
    }
   ],
   "source": [
    "group_id_max.genre.value_counts()"
   ]
  },
  {
   "cell_type": "code",
   "execution_count": 27,
   "metadata": {},
   "outputs": [
    {
     "data": {
      "image/png": "[encoded data removed]",
      "text/plain": [
       "<Figure size 432x288 with 1 Axes>"
      ]
     },
     "metadata": {
      "needs_background": "light"
     },
     "output_type": "display_data"
    }
   ],
   "source": [
    "ax = sns.scatterplot(group_id_max.rating_x,group_id_max.box_office, data=group_id_max);\n",
    "plt.xlabel('Rating')\n",
    "plt.ylabel('Box Office (USD)\\nin Millions');"
   ]
  },
  {
   "cell_type": "code",
   "execution_count": 28,
   "metadata": {},
   "outputs": [],
   "source": [
    "group_id_max.box_office = group_id_max.box_office.str.replace(',','')"
   ]
  },
  {
   "cell_type": "code",
   "execution_count": 29,
   "metadata": {},
   "outputs": [],
   "source": [
    "group_id_max.box_office = group_id_max.box_office.astype('int64')"
   ]
  },
  {
   "cell_type": "code",
   "execution_count": 30,
   "metadata": {},
   "outputs": [
    {
     "data": {
      "image/png": "[encoded data removed]",
      "text/plain": [
       "<Figure size 1080x1080 with 3 Axes>"
      ]
     },
     "metadata": {
      "needs_background": "light"
     },
     "output_type": "display_data"
    }
   ],
   "source": [
    "jointplot_rating_box = sns.jointplot(group_id_max.rating_x, group_id_max.box_office, data=group_id_max, kind='reg',height=15)\n",
    "jointplot_rating_box.set_axis_labels('Rating', 'Box Office(USD)\\nin millions', fontsize=16);"
   ]
  },
  {
   "cell_type": "code",
   "execution_count": 31,
   "metadata": {},
   "outputs": [
    {
     "data": {
      "image/png": "[encoded data removed]",
      "text/plain": [
       "<Figure size 842.4x595.44 with 1 Axes>"
      ]
     },
     "metadata": {},
     "output_type": "display_data"
    }
   ],
   "source": [
    "sns.set_style('ticks')\n",
    "fig, ax = plt.subplots()\n",
    "# the size of A4 paper\n",
    "fig.set_size_inches(11.7, 8.27)\n",
    "barplot_by_genre = sns.barplot(x=group_id_max.groupby('genre').mean().index,\n",
    "                               y=group_id_max.groupby('genre')['box_office'].mean(),\n",
    "                              ax=ax);  "
   ]
  },
  {
   "cell_type": "code",
   "execution_count": 32,
   "metadata": {},
   "outputs": [
    {
     "data": {
      "text/plain": [
       "genre\n",
       "Action and Adventure                                                   1526248.0\n",
       "Action and Adventure|Animation|Comedy                                114053579.0\n",
       "Action and Adventure|Animation|Comedy|Drama|Kids and Family          106604314.0\n",
       "Action and Adventure|Animation|Comedy|Kids and Family                 33636018.5\n",
       "Action and Adventure|Animation|Comedy|Science Fiction and Fantasy     21379315.0\n",
       "                                                                        ...     \n",
       "Horror|Mystery and Suspense|Science Fiction and Fantasy               14149065.5\n",
       "Kids and Family|Musical and Performing Arts                            2027042.0\n",
       "Kids and Family|Science Fiction and Fantasy                          261835892.0\n",
       "Mystery and Suspense                                                    262586.0\n",
       "Mystery and Suspense|Science Fiction and Fantasy|Western                709133.0\n",
       "Name: box_office, Length: 89, dtype: float64"
      ]
     },
     "execution_count": 32,
     "metadata": {},
     "output_type": "execute_result"
    }
   ],
   "source": [
    "group_id_max.groupby('genre')['box_office'].mean()"
   ]
  },
  {
   "cell_type": "code",
   "execution_count": 33,
   "metadata": {},
   "outputs": [
    {
     "data": {
      "text/html": [
       "<div>\n",
       "<style scoped>\n",
       "    .dataframe tbody tr th:only-of-type {\n",
       "        vertical-align: middle;\n",
       "    }\n",
       "\n",
       "    .dataframe tbody tr th {\n",
       "        vertical-align: top;\n",
       "    }\n",
       "\n",
       "    .dataframe thead th {\n",
       "        text-align: right;\n",
       "    }\n",
       "</style>\n",
       "<table border=\"1\" class=\"dataframe\">\n",
       "  <thead>\n",
       "    <tr style=\"text-align: right;\">\n",
       "      <th></th>\n",
       "      <th>rating_x</th>\n",
       "      <th>fresh</th>\n",
       "      <th>top_critic</th>\n",
       "      <th>date</th>\n",
       "      <th>synopsis</th>\n",
       "      <th>rating_y</th>\n",
       "      <th>genre</th>\n",
       "      <th>director</th>\n",
       "      <th>writer</th>\n",
       "      <th>theater_date</th>\n",
       "      <th>dvd_date</th>\n",
       "      <th>currency</th>\n",
       "      <th>box_office</th>\n",
       "      <th>runtime</th>\n",
       "      <th>studio</th>\n",
       "    </tr>\n",
       "    <tr>\n",
       "      <th>id</th>\n",
       "      <th></th>\n",
       "      <th></th>\n",
       "      <th></th>\n",
       "      <th></th>\n",
       "      <th></th>\n",
       "      <th></th>\n",
       "      <th></th>\n",
       "      <th></th>\n",
       "      <th></th>\n",
       "      <th></th>\n",
       "      <th></th>\n",
       "      <th></th>\n",
       "      <th></th>\n",
       "      <th></th>\n",
       "      <th></th>\n",
       "    </tr>\n",
       "  </thead>\n",
       "  <tbody>\n",
       "    <tr>\n",
       "      <td>1442</td>\n",
       "      <td>8.5</td>\n",
       "      <td>rotten</td>\n",
       "      <td>1</td>\n",
       "      <td>September 30, 2005</td>\n",
       "      <td>Youthful wizard Harry Potter returns to the sc...</td>\n",
       "      <td>PG</td>\n",
       "      <td>Kids and Family|Science Fiction and Fantasy</td>\n",
       "      <td>Chris Columbus</td>\n",
       "      <td>Steve Kloves</td>\n",
       "      <td>Nov 15, 2002</td>\n",
       "      <td>Apr 11, 2003</td>\n",
       "      <td>$</td>\n",
       "      <td>261835892</td>\n",
       "      <td>161 minutes</td>\n",
       "      <td>Warner Bros. Pictures</td>\n",
       "    </tr>\n",
       "  </tbody>\n",
       "</table>\n",
       "</div>"
      ],
      "text/plain": [
       "      rating_x   fresh  top_critic                date  \\\n",
       "id                                                       \n",
       "1442       8.5  rotten           1  September 30, 2005   \n",
       "\n",
       "                                               synopsis rating_y  \\\n",
       "id                                                                 \n",
       "1442  Youthful wizard Harry Potter returns to the sc...       PG   \n",
       "\n",
       "                                            genre        director  \\\n",
       "id                                                                  \n",
       "1442  Kids and Family|Science Fiction and Fantasy  Chris Columbus   \n",
       "\n",
       "            writer  theater_date      dvd_date currency  box_office  \\\n",
       "id                                                                    \n",
       "1442  Steve Kloves  Nov 15, 2002  Apr 11, 2003        $   261835892   \n",
       "\n",
       "          runtime                 studio  \n",
       "id                                        \n",
       "1442  161 minutes  Warner Bros. Pictures  "
      ]
     },
     "execution_count": 33,
     "metadata": {},
     "output_type": "execute_result"
    }
   ],
   "source": [
    "group_id_max[group_id_max['genre'] == 'Kids and Family|Science Fiction and Fantasy']"
   ]
  },
  {
   "cell_type": "code",
   "execution_count": 34,
   "metadata": {},
   "outputs": [],
   "source": [
    "for x in group_id_max.genre:\n",
    "    if x.startswith('Action and Adventure'):\n",
    "        group_id_max.genre.replace(to_replace=x,value='Action and Adventure',inplace=True)"
   ]
  },
  {
   "cell_type": "code",
   "execution_count": 35,
   "metadata": {},
   "outputs": [],
   "source": [
    "for x in group_id_max.genre:\n",
    "    if x.startswith('Drama'):\n",
    "        group_id_max.genre.replace(to_replace=x,value='Drama',inplace=True)"
   ]
  },
  {
   "cell_type": "code",
   "execution_count": 36,
   "metadata": {},
   "outputs": [],
   "source": [
    "for x in group_id_max.genre:\n",
    "    if x.startswith('Comedy'):\n",
    "        group_id_max.genre.replace(to_replace=x,value='Comedy',inplace=True)"
   ]
  },
  {
   "cell_type": "code",
   "execution_count": 37,
   "metadata": {},
   "outputs": [],
   "source": [
    "for x in group_id_max.genre:\n",
    "    if x.startswith('Art House and International'):\n",
    "        group_id_max.genre.replace(to_replace=x,value='Art House and International',inplace=True)"
   ]
  },
  {
   "cell_type": "code",
   "execution_count": 38,
   "metadata": {},
   "outputs": [],
   "source": [
    "for x in group_id_max.genre:\n",
    "    if x.startswith('Horror'):\n",
    "        group_id_max.genre.replace(to_replace=x,value='Horror',inplace=True)"
   ]
  },
  {
   "cell_type": "code",
   "execution_count": 39,
   "metadata": {},
   "outputs": [],
   "source": [
    "for x in group_id_max.genre:\n",
    "    if x.startswith('Animation'):\n",
    "        group_id_max.genre.replace(to_replace=x,value='Animation',inplace=True)"
   ]
  },
  {
   "cell_type": "code",
   "execution_count": 40,
   "metadata": {},
   "outputs": [],
   "source": [
    "for x in group_id_max.genre:\n",
    "    if x.startswith('Documentary'):\n",
    "        group_id_max.genre.replace(to_replace=x,value='Documentary',inplace=True)"
   ]
  },
  {
   "cell_type": "code",
   "execution_count": 41,
   "metadata": {},
   "outputs": [],
   "source": [
    "for x in group_id_max.genre:\n",
    "    if (x.startswith('Mystery')) or (x.startswith('Kids and')) or (x.startswith('Classics')):\n",
    "        group_id_max.genre.replace(to_replace=x,value='Misc',inplace=True)"
   ]
  },
  {
   "cell_type": "code",
   "execution_count": 42,
   "metadata": {},
   "outputs": [
    {
     "name": "stderr",
     "output_type": "stream",
     "text": [
      "/opt/anaconda3/envs/learn-env/lib/python3.6/site-packages/pandas/core/ops/__init__.py:1115: FutureWarning: elementwise comparison failed; returning scalar instead, but in the future will perform elementwise comparison\n",
      "  result = method(y)\n"
     ]
    }
   ],
   "source": [
    "merged_df.rating_x.drop(merged_df[merged_df['rating_x'] == '1-5'].index, inplace = True)"
   ]
  },
  {
   "cell_type": "code",
   "execution_count": 43,
   "metadata": {},
   "outputs": [],
   "source": [
    "group_id_max.genre.drop(group_id_max[group_id_max.genre == 'Misc'].index, inplace=True)"
   ]
  },
  {
   "cell_type": "code",
   "execution_count": 44,
   "metadata": {},
   "outputs": [
    {
     "data": {
      "image/png": "[encoded data removed]",
      "text/plain": [
       "<Figure size 842.4x595.44 with 1 Axes>"
      ]
     },
     "metadata": {},
     "output_type": "display_data"
    }
   ],
   "source": [
    "sns.set_style('ticks')\n",
    "fig, ax = plt.subplots()\n",
    "# the size of A4 paper\n",
    "fig.set_size_inches(11.7, 8.27)\n",
    "barplot_by_genre = sns.barplot(x=group_id_max.groupby('genre').mean().index,\n",
    "                               y=group_id_max.groupby('genre')['box_office'].mean(),\n",
    "                              ax=ax);  "
   ]
  },
  {
   "cell_type": "code",
   "execution_count": 66,
   "metadata": {},
   "outputs": [
    {
     "data": {
      "image/png": "[encoded data removed]",
      "text/plain": [
       "<Figure size 842.4x595.44 with 1 Axes>"
      ]
     },
     "metadata": {},
     "output_type": "display_data"
    }
   ],
   "source": [
    "sns.set_style('ticks')\n",
    "fig, ax = plt.subplots()\n",
    "# the size of A4 paper\n",
    "fig.set_size_inches(11.7, 8.27)\n",
    "barplotsns = sns.barplot(x=group_id_max.groupby('genre').mean().index,\n",
    "                               y=group_id_max.groupby('genre')['rating_x'].mean(),\n",
    "                              ax=ax); "
   ]
  },
  {
   "cell_type": "code",
   "execution_count": 46,
   "metadata": {},
   "outputs": [],
   "source": [
    "grouped_mean_and_top = group_id_max.merge(group_id_mean,on='id',how='inner')"
   ]
  },
  {
   "cell_type": "code",
   "execution_count": 47,
   "metadata": {},
   "outputs": [
    {
     "data": {
      "text/plain": [
       "genre\n",
       "Action and Adventure           1.546492\n",
       "Animation                      1.499855\n",
       "Art House and International    1.891260\n",
       "Comedy                         1.521093\n",
       "Documentary                    1.753313\n",
       "Drama                          1.669132\n",
       "Horror                         0.931517\n",
       "Misc                           1.438336\n",
       "Name: rating_x_y, dtype: float64"
      ]
     },
     "execution_count": 47,
     "metadata": {},
     "output_type": "execute_result"
    }
   ],
   "source": [
    "grouped_mean_and_top.groupby('genre')['rating_x_y'].mean()"
   ]
  },
  {
   "cell_type": "code",
   "execution_count": 61,
   "metadata": {},
   "outputs": [
    {
     "data": {
      "image/png": "[encoded data removed]",
      "text/plain": [
       "<Figure size 842.4x595.44 with 1 Axes>"
      ]
     },
     "metadata": {},
     "output_type": "display_data"
    }
   ],
   "source": [
    "sns.set_style('ticks')\n",
    "fig, ax = plt.subplots()\n",
    "# the size of A4 paper\n",
    "fig.set_size_inches(11.7, 8.27)\n",
    "barplot_by_genre = sns.barplot(x=grouped_mean_and_top.groupby('genre').mean().index,\n",
    "                               y=grouped_mean_and_top.groupby('genre')['rating_x_y'].mean(),\n",
    "                              ax=ax);  "
   ]
  },
  {
   "cell_type": "code",
   "execution_count": null,
   "metadata": {},
   "outputs": [],
   "source": []
  }
 ],
 "metadata": {
  "kernelspec": {
   "display_name": "Python [conda env:learn-env] *",
   "language": "python",
   "name": "conda-env-learn-env-py"
  },
  "language_info": {
   "codemirror_mode": {
    "name": "ipython",
    "version": 3
   },
   "file_extension": ".py",
   "mimetype": "text/x-python",
   "name": "python",
   "nbconvert_exporter": "python",
   "pygments_lexer": "ipython3",
   "version": "3.6.9"
  }
 },
 "nbformat": 4,
 "nbformat_minor": 4
}
