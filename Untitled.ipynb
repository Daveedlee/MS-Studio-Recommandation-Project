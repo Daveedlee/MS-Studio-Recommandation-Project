{
 "cells": [
  {
   "cell_type": "code",
   "execution_count": 203,
   "metadata": {},
   "outputs": [],
   "source": [
    "import matplotlib.pyplot as plt\n",
    "import seaborn as sns"
   ]
  },
  {
   "cell_type": "code",
   "execution_count": 80,
   "metadata": {},
   "outputs": [],
   "source": [
    "import numpy as np\n",
    "import pandas as pd\n",
    "from fractions import Fraction as ft\n",
    "\n",
    "original_df = pd.read_csv(\"rt.reviews.tsv\",encoding='windows-1254',delimiter = '\\t')\n",
    "df = original_df.copy()\n",
    "original_df2 = pd.read_csv('rt.movie_info.tsv',encoding='windows-1254',delimiter = '\\t')\n",
    "df2 = original_df2.copy()"
   ]
  },
  {
   "cell_type": "code",
   "execution_count": 81,
   "metadata": {},
   "outputs": [],
   "source": [
    "def convert(s):\n",
    "    try:\n",
    "        return float(s)\n",
    "    except ValueError:\n",
    "        num, denom = s.split('/')\n",
    "        return float(num) / float(denom)"
   ]
  },
  {
   "cell_type": "code",
   "execution_count": 82,
   "metadata": {},
   "outputs": [],
   "source": [
    "def isFloat(string):\n",
    "    try:\n",
    "        float(string)\n",
    "        return True\n",
    "    except ValueError:\n",
    "        return False"
   ]
  },
  {
   "cell_type": "code",
   "execution_count": 83,
   "metadata": {},
   "outputs": [],
   "source": [
    "merged_df = df.merge(df2,on='id').copy()"
   ]
  },
  {
   "cell_type": "code",
   "execution_count": 115,
   "metadata": {},
   "outputs": [],
   "source": [
    "merged_df.rating_x = merged_df.rating_x.astype(str)"
   ]
  },
  {
   "cell_type": "code",
   "execution_count": 117,
   "metadata": {},
   "outputs": [],
   "source": [
    "merged_df.drop(merged_df[merged_df['rating_x'] == 'N'].index,inplace=True)"
   ]
  },
  {
   "cell_type": "code",
   "execution_count": 119,
   "metadata": {},
   "outputs": [],
   "source": [
    "merged_df.drop(merged_df[merged_df['rating_x'] == 'R'].index,inplace=True)"
   ]
  },
  {
   "cell_type": "code",
   "execution_count": 120,
   "metadata": {},
   "outputs": [],
   "source": [
    "merged_df.drop(merged_df[merged_df['rating_x'] == 'T'].index,inplace=True)"
   ]
  },
  {
   "cell_type": "code",
   "execution_count": 93,
   "metadata": {},
   "outputs": [],
   "source": [
    "merged_df.rating_x.drop(merged_df[merged_df['rating_x'] == '1-5'].index, inplace = True)"
   ]
  },
  {
   "cell_type": "code",
   "execution_count": 92,
   "metadata": {},
   "outputs": [],
   "source": [
    "merged_df.rating_x.replace(to_replace = '3 1/2', value = 3.5, inplace = True)"
   ]
  },
  {
   "cell_type": "code",
   "execution_count": 107,
   "metadata": {},
   "outputs": [],
   "source": [
    "merged_df.rating_x.replace(to_replace = 'F-', value = 0, inplace = True)"
   ]
  },
  {
   "cell_type": "code",
   "execution_count": 84,
   "metadata": {},
   "outputs": [],
   "source": [
    "for x in merged_df.rating_x:\n",
    "    try:\n",
    "        merged_df.rating_x.replace(x,convert(x),inplace=True)\n",
    "    except ValueError:\n",
    "        pass"
   ]
  },
  {
   "cell_type": "code",
   "execution_count": 72,
   "metadata": {},
   "outputs": [],
   "source": [
    "merged_df['rating_x'] = merged_df.rating_x.astype(str)"
   ]
  },
  {
   "cell_type": "code",
   "execution_count": 128,
   "metadata": {},
   "outputs": [],
   "source": [
    "letter_grades = []\n",
    "for x in merged_df.rating_x:\n",
    "    if not(isFloat(x)):\n",
    "        letter_grades.append(x)"
   ]
  },
  {
   "cell_type": "code",
   "execution_count": 129,
   "metadata": {},
   "outputs": [
    {
     "data": {
      "text/plain": [
       "set()"
      ]
     },
     "execution_count": 129,
     "metadata": {},
     "output_type": "execute_result"
    }
   ],
   "source": [
    "set(letter_grades)"
   ]
  },
  {
   "cell_type": "code",
   "execution_count": 97,
   "metadata": {},
   "outputs": [],
   "source": [
    "for x in merged_df.rating_x:\n",
    "    for y in letter_grades:\n",
    "        if x == y:\n",
    "            if x == 'A':\n",
    "                merged_df.rating_x.replace(to_replace='A',value=9,inplace=True)\n",
    "            elif x == 'A+':\n",
    "                merged_df.rating_x.replace(to_replace='A+',value=10,inplace=True)\n",
    "            elif x == 'A-':\n",
    "                merged_df.rating_x.replace(to_replace='A-',value=8.5,inplace=True)\n",
    "            elif x =='B+':\n",
    "                merged_df.rating_x.replace(to_replace='B+',value=8,inplace=True)\n",
    "            elif x == 'B':\n",
    "                merged_df.rating_x.replace(to_replace='B',value=7,inplace=True)\n",
    "            elif x == 'B-':\n",
    "                merged_df.rating_x.replace(to_replace='B-',value=6.5,inplace=True)\n",
    "            elif x == 'C+':\n",
    "                merged_df.rating_x.replace(to_replace='C+',value=6,inplace=True)    \n",
    "            elif x == 'C':\n",
    "                merged_df.rating_x.replace(to_replace='C',value=5,inplace=True)\n",
    "            elif x == 'C-':\n",
    "                merged_df.rating_x.replace(to_replace='C-',value=4.5,inplace=True)\n",
    "            elif x == 'D+':\n",
    "                merged_df.rating_x.replace(to_replace='D+',value=4,inplace=True)\n",
    "            elif x == 'D':\n",
    "                merged_df.rating_x.replace(to_replace='D',value=3,inplace=True)\n",
    "            elif x == 'D-':\n",
    "                merged_df.rating_x.replace(to_replace='D-',value=2.5,inplace=True)\n",
    "            elif x == 'F+':\n",
    "                merged_df.rating_x.replace(to_replace='F+',value=2,inplace=True)\n",
    "            elif x == 'F':\n",
    "                merged_df.rating_x.replace(to_replace='F',value=1,inplace=True)"
   ]
  },
  {
   "cell_type": "code",
   "execution_count": 130,
   "metadata": {},
   "outputs": [],
   "source": [
    "merged_df = merged_df[pd.notnull(merged_df['rating_x'])]"
   ]
  },
  {
   "cell_type": "code",
   "execution_count": 124,
   "metadata": {},
   "outputs": [],
   "source": [
    "merged_df.rating_x = merged_df['rating_x'].astype('float64')"
   ]
  },
  {
   "cell_type": "code",
   "execution_count": 181,
   "metadata": {},
   "outputs": [],
   "source": [
    "merged_df_box = merged_df.copy()"
   ]
  },
  {
   "cell_type": "code",
   "execution_count": 182,
   "metadata": {},
   "outputs": [],
   "source": [
    "merged_df_box.dropna(subset=['box_office'], inplace=True)"
   ]
  },
  {
   "cell_type": "code",
   "execution_count": 269,
   "metadata": {},
   "outputs": [],
   "source": [
    "group_id_mean = merged_df_box.groupby('id').mean()"
   ]
  },
  {
   "cell_type": "code",
   "execution_count": 199,
   "metadata": {},
   "outputs": [],
   "source": [
    "group_id_max = merged_df_box.groupby('id').max()"
   ]
  },
  {
   "cell_type": "code",
   "execution_count": 226,
   "metadata": {},
   "outputs": [
    {
     "data": {
      "text/plain": [
       "Drama                                                                      41\n",
       "Comedy                                                                     36\n",
       "Comedy|Drama                                                               23\n",
       "Drama|Mystery and Suspense                                                 12\n",
       "Comedy|Drama|Romance                                                       11\n",
       "                                                                           ..\n",
       "Action and Adventure|Horror|Kids and Family|Science Fiction and Fantasy     1\n",
       "Drama|Science Fiction and Fantasy                                           1\n",
       "Comedy|Mystery and Suspense                                                 1\n",
       "Art House and International|Drama|Special Interest                          1\n",
       "Action and Adventure|Animation|Comedy                                       1\n",
       "Name: genre, Length: 89, dtype: int64"
      ]
     },
     "execution_count": 226,
     "metadata": {},
     "output_type": "execute_result"
    }
   ],
   "source": [
    "group_id_max.genre.value_counts()"
   ]
  },
  {
   "cell_type": "code",
   "execution_count": 212,
   "metadata": {},
   "outputs": [
    {
     "data": {
      "text/plain": [
       "<matplotlib.axes._subplots.AxesSubplot at 0x12b6a7358>"
      ]
     },
     "execution_count": 212,
     "metadata": {},
     "output_type": "execute_result"
    },
    {
     "data": {
      "image/png": "[encoded data removed]",
      "text/plain": [
       "<Figure size 432x288 with 1 Axes>"
      ]
     },
     "metadata": {
      "needs_background": "light"
     },
     "output_type": "display_data"
    }
   ],
   "source": [
    "sns.scatterplot(group_id_max.rating_x,group_id_max.box_office, data=group_id_max)"
   ]
  },
  {
   "cell_type": "code",
   "execution_count": 372,
   "metadata": {},
   "outputs": [
    {
     "data": {
      "image/png": "[encoded data removed]",
      "text/plain": [
       "<Figure size 1080x1080 with 3 Axes>"
      ]
     },
     "metadata": {},
     "output_type": "display_data"
    }
   ],
   "source": [
    "jointplot_rating_box = sns.jointplot(group_id_max.rating_x, group_id_max.box_office, data=group_id_max, kind='reg',height=15)\n",
    "jointplot_rating_box.set_axis_labels('Rating', 'Box Office(USD)\\nin millions', fontsize=16);\n"
   ]
  },
  {
   "cell_type": "code",
   "execution_count": 346,
   "metadata": {},
   "outputs": [
    {
     "data": {
      "image/png": "[encoded data removed]",
      "text/plain": [
       "<Figure size 842.4x595.44 with 1 Axes>"
      ]
     },
     "metadata": {},
     "output_type": "display_data"
    }
   ],
   "source": [
    "sns.set_style('ticks')\n",
    "fig, ax = plt.subplots()\n",
    "# the size of A4 paper\n",
    "fig.set_size_inches(11.7, 8.27)\n",
    "barplot_by_genre = sns.barplot(x=group_id_max.groupby('genre').mean().index,\n",
    "                               y=group_id_max.groupby('genre')['box_office'].mean(),\n",
    "                              ax=ax);  "
   ]
  },
  {
   "cell_type": "code",
   "execution_count": 309,
   "metadata": {},
   "outputs": [
    {
     "data": {
      "text/plain": [
       "genre\n",
       "Action and Adventure           6.177522e+07\n",
       "Animation                      5.233580e+07\n",
       "Art House and International    2.027701e+06\n",
       "Comedy                         4.456114e+07\n",
       "Documentary                    4.842830e+05\n",
       "Drama                          2.579894e+07\n",
       "Horror                         2.174063e+07\n",
       "Misc                           5.554693e+07\n",
       "Name: box_office, dtype: float64"
      ]
     },
     "execution_count": 309,
     "metadata": {},
     "output_type": "execute_result"
    }
   ],
   "source": [
    "group_id_max.groupby('genre')['box_office'].mean()"
   ]
  },
  {
   "cell_type": "code",
   "execution_count": 281,
   "metadata": {},
   "outputs": [
    {
     "data": {
      "text/html": [
       "<div>\n",
       "<style scoped>\n",
       "    .dataframe tbody tr th:only-of-type {\n",
       "        vertical-align: middle;\n",
       "    }\n",
       "\n",
       "    .dataframe tbody tr th {\n",
       "        vertical-align: top;\n",
       "    }\n",
       "\n",
       "    .dataframe thead th {\n",
       "        text-align: right;\n",
       "    }\n",
       "</style>\n",
       "<table border=\"1\" class=\"dataframe\">\n",
       "  <thead>\n",
       "    <tr style=\"text-align: right;\">\n",
       "      <th></th>\n",
       "      <th>rating_x</th>\n",
       "      <th>fresh</th>\n",
       "      <th>top_critic</th>\n",
       "      <th>date</th>\n",
       "      <th>synopsis</th>\n",
       "      <th>rating_y</th>\n",
       "      <th>genre</th>\n",
       "      <th>director</th>\n",
       "      <th>writer</th>\n",
       "      <th>theater_date</th>\n",
       "      <th>dvd_date</th>\n",
       "      <th>currency</th>\n",
       "      <th>box_office</th>\n",
       "      <th>runtime</th>\n",
       "      <th>studio</th>\n",
       "    </tr>\n",
       "    <tr>\n",
       "      <th>id</th>\n",
       "      <th></th>\n",
       "      <th></th>\n",
       "      <th></th>\n",
       "      <th></th>\n",
       "      <th></th>\n",
       "      <th></th>\n",
       "      <th></th>\n",
       "      <th></th>\n",
       "      <th></th>\n",
       "      <th></th>\n",
       "      <th></th>\n",
       "      <th></th>\n",
       "      <th></th>\n",
       "      <th></th>\n",
       "      <th></th>\n",
       "    </tr>\n",
       "  </thead>\n",
       "  <tbody>\n",
       "    <tr>\n",
       "      <td>1442</td>\n",
       "      <td>8.5</td>\n",
       "      <td>rotten</td>\n",
       "      <td>1</td>\n",
       "      <td>September 30, 2005</td>\n",
       "      <td>Youthful wizard Harry Potter returns to the sc...</td>\n",
       "      <td>PG</td>\n",
       "      <td>Kids and Family|Science Fiction and Fantasy</td>\n",
       "      <td>Chris Columbus</td>\n",
       "      <td>Steve Kloves</td>\n",
       "      <td>Nov 15, 2002</td>\n",
       "      <td>Apr 11, 2003</td>\n",
       "      <td>$</td>\n",
       "      <td>261835892</td>\n",
       "      <td>161 minutes</td>\n",
       "      <td>Warner Bros. Pictures</td>\n",
       "    </tr>\n",
       "  </tbody>\n",
       "</table>\n",
       "</div>"
      ],
      "text/plain": [
       "      rating_x   fresh  top_critic                date  \\\n",
       "id                                                       \n",
       "1442       8.5  rotten           1  September 30, 2005   \n",
       "\n",
       "                                               synopsis rating_y  \\\n",
       "id                                                                 \n",
       "1442  Youthful wizard Harry Potter returns to the sc...       PG   \n",
       "\n",
       "                                            genre        director  \\\n",
       "id                                                                  \n",
       "1442  Kids and Family|Science Fiction and Fantasy  Chris Columbus   \n",
       "\n",
       "            writer  theater_date      dvd_date currency  box_office  \\\n",
       "id                                                                    \n",
       "1442  Steve Kloves  Nov 15, 2002  Apr 11, 2003        $   261835892   \n",
       "\n",
       "          runtime                 studio  \n",
       "id                                        \n",
       "1442  161 minutes  Warner Bros. Pictures  "
      ]
     },
     "execution_count": 281,
     "metadata": {},
     "output_type": "execute_result"
    }
   ],
   "source": [
    "group_id_max[group_id_max['genre'] == 'Kids and Family|Science Fiction and Fantasy']"
   ]
  },
  {
   "cell_type": "code",
   "execution_count": 287,
   "metadata": {},
   "outputs": [],
   "source": [
    "for x in group_id_max.genre:\n",
    "    if x.startswith('Action and Adventure'):\n",
    "        group_id_max.genre.replace(to_replace=x,value='Action and Adventure',inplace=True)"
   ]
  },
  {
   "cell_type": "code",
   "execution_count": 289,
   "metadata": {},
   "outputs": [],
   "source": [
    "for x in group_id_max.genre:\n",
    "    if x.startswith('Drama'):\n",
    "        group_id_max.genre.replace(to_replace=x,value='Drama',inplace=True)"
   ]
  },
  {
   "cell_type": "code",
   "execution_count": 291,
   "metadata": {},
   "outputs": [],
   "source": [
    "for x in group_id_max.genre:\n",
    "    if x.startswith('Comedy'):\n",
    "        group_id_max.genre.replace(to_replace=x,value='Comedy',inplace=True)"
   ]
  },
  {
   "cell_type": "code",
   "execution_count": 295,
   "metadata": {},
   "outputs": [],
   "source": [
    "for x in group_id_max.genre:\n",
    "    if x.startswith('Art House and International'):\n",
    "        group_id_max.genre.replace(to_replace=x,value='Art House and International',inplace=True)"
   ]
  },
  {
   "cell_type": "code",
   "execution_count": 296,
   "metadata": {},
   "outputs": [],
   "source": [
    "for x in group_id_max.genre:\n",
    "    if x.startswith('Horror'):\n",
    "        group_id_max.genre.replace(to_replace=x,value='Horror',inplace=True)"
   ]
  },
  {
   "cell_type": "code",
   "execution_count": 300,
   "metadata": {},
   "outputs": [],
   "source": [
    "for x in group_id_max.genre:\n",
    "    if x.startswith('Animation'):\n",
    "        group_id_max.genre.replace(to_replace=x,value='Animation',inplace=True)"
   ]
  },
  {
   "cell_type": "code",
   "execution_count": 302,
   "metadata": {},
   "outputs": [],
   "source": [
    "for x in group_id_max.genre:\n",
    "    if x.startswith('Documentary'):\n",
    "        group_id_max.genre.replace(to_replace=x,value='Documentary',inplace=True)"
   ]
  },
  {
   "cell_type": "code",
   "execution_count": 307,
   "metadata": {},
   "outputs": [],
   "source": [
    "for x in group_id_max.genre:\n",
    "    if (x.startswith('Mystery')) or (x.startswith('Kids and')) or (x.startswith('Classics')):\n",
    "        group_id_max.genre.replace(to_replace=x,value='Misc',inplace=True)"
   ]
  },
  {
   "cell_type": "code",
   "execution_count": 324,
   "metadata": {},
   "outputs": [
    {
     "name": "stdout",
     "output_type": "stream",
     "text": [
      "      rating_x   fresh  top_critic                date  \\\n",
      "id                                                       \n",
      "1442       8.5  rotten           1  September 30, 2005   \n",
      "\n",
      "                                               synopsis rating_y genre  \\\n",
      "id                                                                       \n",
      "1442  Youthful wizard Harry Potter returns to the sc...       PG  Misc   \n",
      "\n",
      "            director        writer  theater_date      dvd_date currency  \\\n",
      "id                                                                        \n",
      "1442  Chris Columbus  Steve Kloves  Nov 15, 2002  Apr 11, 2003        $   \n",
      "\n",
      "      box_office      runtime                 studio  \n",
      "id                                                    \n",
      "1442   261835892  161 minutes  Warner Bros. Pictures  \n"
     ]
    }
   ],
   "source": [
    "merged_df.rating_x.drop(merged_df[merged_df['rating_x'] == '1-5'].index, inplace = True)"
   ]
  },
  {
   "cell_type": "code",
   "execution_count": 327,
   "metadata": {},
   "outputs": [],
   "source": [
    "group_id_max.genre.drop(group_id_max[group_id_max.genre == 'Misc'].index, inplace=True)"
   ]
  },
  {
   "cell_type": "code",
   "execution_count": 328,
   "metadata": {},
   "outputs": [
    {
     "data": {
      "text/plain": [
       "Comedy                         95\n",
       "Drama                          81\n",
       "Action and Adventure           69\n",
       "Art House and International    23\n",
       "Horror                         10\n",
       "Animation                      10\n",
       "Documentary                     6\n",
       "Name: genre, dtype: int64"
      ]
     },
     "execution_count": 328,
     "metadata": {},
     "output_type": "execute_result"
    }
   ],
   "source": [
    "group_id_max.genre.value_counts()"
   ]
  },
  {
   "cell_type": "code",
   "execution_count": 373,
   "metadata": {},
   "outputs": [
    {
     "data": {
      "image/png": "[encoded data removed]",
      "text/plain": [
       "<Figure size 842.4x595.44 with 1 Axes>"
      ]
     },
     "metadata": {},
     "output_type": "display_data"
    }
   ],
   "source": [
    "sns.set_style('ticks')\n",
    "fig, ax = plt.subplots()\n",
    "# the size of A4 paper\n",
    "fig.set_size_inches(11.7, 8.27)\n",
    "barplot_by_genre = sns.barplot(x=group_id_max.groupby('genre').mean().index,\n",
    "                               y=group_id_max.groupby('genre')['rating_x'].mean(),\n",
    "                              ax=ax);  "
   ]
  },
  {
   "cell_type": "code",
   "execution_count": null,
   "metadata": {},
   "outputs": [],
   "source": []
  }
 ],
 "metadata": {
  "kernelspec": {
   "display_name": "Python [conda env:learn-env] *",
   "language": "python",
   "name": "conda-env-learn-env-py"
  },
  "language_info": {
   "codemirror_mode": {
    "name": "ipython",
    "version": 3
   },
   "file_extension": ".py",
   "mimetype": "text/x-python",
   "name": "python",
   "nbconvert_exporter": "python",
   "pygments_lexer": "ipython3",
   "version": "3.6.9"
  }
 },
 "nbformat": 4,
 "nbformat_minor": 4
}
