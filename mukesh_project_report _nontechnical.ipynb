{
 "cells": [
  {
   "cell_type": "markdown",
   "metadata": {},
   "source": [
    "# Project Name : Disruptive Metrics\n",
    "\n",
    "- Presented by Mukesh Chaudhary And Devid Lee\n",
    "\n",
    "- Date : 13/11/2019\n",
    "\n",
    "### Objective\n",
    "   - prediction and analysis market for investment on production_budget , worldwide and domestic income. \n",
    "   - Recommend movies in term of critics and rating. "
   ]
  },
  {
   "cell_type": "markdown",
   "metadata": {},
   "source": [
    "## Libraries which are used in project \n",
    "  - pandas\n",
    "  - numpy \n",
    "  - seaborn\n",
    "  - matplotlib.pyplot\n",
    "  - datetime\n",
    "  - %matplotlib inline\n",
    "  - import functionReg as fg  # user define module \n",
    "  \n"
   ]
  },
  {
   "cell_type": "markdown",
   "metadata": {},
   "source": [
    "# Report - Analysis movies and recommend to microsoft to make movie in term of profitable ,popularity ,rating ,critics"
   ]
  },
  {
   "cell_type": "markdown",
   "metadata": {},
   "source": [
    "![Movie prediction](movie_prediction.png)"
   ]
  },
  {
   "cell_type": "markdown",
   "metadata": {},
   "source": [
    "### Assumptions\n",
    " - linear regression modeling approach assumption\n",
    " - Barplot assumption\n",
    " - production_budget is used as independent variables\n",
    " - worldwide_gross,domestic_gross,popularity are used as dependent varaibles\n",
    " - deleted duplicated values which is genered by merge two data base. \n",
    " - created new same column names on both database \n"
   ]
  },
  {
   "cell_type": "markdown",
   "metadata": {},
   "source": [
    "### Open issues/problems\n",
    " - lots of duplicated data after merge data\n",
    " - unnamed columns in database\n",
    " - convert to dtype\n",
    " - lots of outlier data\n"
   ]
  },
  {
   "cell_type": "markdown",
   "metadata": {},
   "source": [
    "### Analysis method explaned\n",
    "- For more analysis , we need more data but indivisual database has limited data. we start mergeing databases.Then  we   got first challanges mergeing  databases and unexpected information like unname columns ,null values . we created new columns on both databases .After that we got another challenges are lots of duplicate data and outlier datas. we cleans merge new dataframe and use linear regrassion model for prediction of successfull and profitable movie. Here we assumes production budget as independent varibles and worldwide_gross,domestic_gross,popiularity rating are used as dependent variables. this helps make  to predict profitable and popularity movies."
   ]
  },
  {
   "cell_type": "markdown",
   "metadata": {},
   "source": [
    " ## Database lists which are used for this project \n",
    "   - tmdb.movies.csv\n",
    "   - tn.movie_budget.csv\n",
    "   - rt.movie_info.tsv\n",
    "   - rt.reviews.tsv"
   ]
  },
  {
   "cell_type": "markdown",
   "metadata": {},
   "source": [
    "### code for remove unname columns of Dataframe\n",
    " - we found unnamed clomn name which was giving problem on mergeing databas.\n",
    "  ```python\n",
    "     tmdbmovies_df=tmdbmovies_df.loc[:,~tmdbmovies_df.columns.str.contains('^Unname')]\n",
    "    \n",
    "   ```"
   ]
  },
  {
   "cell_type": "markdown",
   "metadata": {},
   "source": [
    "### Create new column name for merge database\n",
    "\n",
    " - creating common column name on both DataFrame tmdb.movies.csv and tn.movie_budgets.csv\n",
    "   ```python\n",
    "    tmdbmovies_df['movies_name']=tmdbmovies_df['original_title']\n",
    "    ```\n",
    "\n",
    " - create movies_name column name as first Data Frame\n",
    "  ``` python\n",
    "     moviebudget_df['movies_name']=moviebudget_df['movie']\n",
    "   ```"
   ]
  },
  {
   "cell_type": "markdown",
   "metadata": {},
   "source": [
    "### check duplicate\n",
    "  moviebudget_df[moviebudget_df.duplicated(keep=False)]"
   ]
  },
  {
   "cell_type": "markdown",
   "metadata": {},
   "source": [
    "### merging two data frame tmdb.movies.csv and tn.movie_budgets.csv\n",
    "\n",
    " ```python \n",
    "    merge_data=pd.merge(tmdbmovies_df,moviebudget_df,how='inner',on=['movies_name'])\n",
    " ```   "
   ]
  },
  {
   "cell_type": "markdown",
   "metadata": {},
   "source": [
    "## Data Cleaning "
   ]
  },
  {
   "cell_type": "markdown",
   "metadata": {},
   "source": [
    "### Checking information and null value on merged data\n",
    "  - merge_data.info()\n",
    "  - merge_data.isnull().sum()\n",
    "  - replace '$'' and ',' sign from three column production_budget , domestic_gross and worldwide_gross\n",
    "  - change datatype from object to int\n",
    "     ```python\n",
    "      merge_data['production_budget']=merge_data['production_budget'].astype(int)\n",
    "      ```\n",
    "   #### find duplicate data in merge_data frame and deleted \n",
    "   \n",
    "     ```python\n",
    "       merge_data[merge_data.duplicated(keep=False)].head(2)\n",
    "       \n",
    "       merge_data.drop_duplicates(keep='first',inplace=True)\n",
    "     ```"
   ]
  },
  {
   "cell_type": "markdown",
   "metadata": {},
   "source": [
    "![duplicate data](duplicate.png)"
   ]
  },
  {
   "cell_type": "markdown",
   "metadata": {},
   "source": [
    "### Find outlier data on merge_data dataframe\n",
    " - we use boxplot visualization\n"
   ]
  },
  {
   "cell_type": "markdown",
   "metadata": {},
   "source": [
    "![outlier](outlier.png)"
   ]
  },
  {
   "cell_type": "markdown",
   "metadata": {},
   "source": [
    " ### Remove outlier from worldwide column data by using module \n",
    "    - called functionReg.py  \n",
    "    \n",
    "       data_nooutlier=fg.remove_outlier(merge_data,'worldwide_gross')\n",
    "  \n",
    "    "
   ]
  },
  {
   "cell_type": "markdown",
   "metadata": {},
   "source": [
    "## Visualization with Linear Regression Modeling"
   ]
  },
  {
   "cell_type": "markdown",
   "metadata": {},
   "source": [
    "### We use linear regression model \n",
    " - to prediction profitable movie\n",
    " - analysis movie's market trend\n",
    " - production_budget is used as independent variable\n",
    " - worldwide_gross,domestic_gross,popularity rating are used as dependent variables\n",
    " "
   ]
  },
  {
   "cell_type": "markdown",
   "metadata": {},
   "source": [
    "![regression](regression.png)"
   ]
  },
  {
   "cell_type": "markdown",
   "metadata": {},
   "source": [
    "### We analysis more  with popularity variable \n",
    "  - plot scatterplot plot between production_budget and worldwide_gross and popularity\n"
   ]
  },
  {
   "cell_type": "markdown",
   "metadata": {},
   "source": [
    "![regpopul](regpopul.png)"
   ]
  },
  {
   "cell_type": "markdown",
   "metadata": {},
   "source": [
    "### We use linear regression model again with another variable\n",
    "  - popularity rating variable"
   ]
  },
  {
   "cell_type": "markdown",
   "metadata": {},
   "source": [
    "![pupularity](popularity.png)"
   ]
  },
  {
   "cell_type": "markdown",
   "metadata": {},
   "source": [
    "## We use bar plot for more analysis\n",
    "  - analysis indivisual movie versus worldwide gross income with original language \n",
    "  - analysis all over language vs worldwide gross collection"
   ]
  },
  {
   "cell_type": "markdown",
   "metadata": {},
   "source": [
    "![movies](movies.png)"
   ]
  },
  {
   "cell_type": "markdown",
   "metadata": {},
   "source": [
    "![language](language.png)"
   ]
  },
  {
   "cell_type": "markdown",
   "metadata": {},
   "source": [
    "# Our Final Recommendation \n",
    " - Donot invest more money on production_budget .Our linear regresion model analysis doesnot give more probability for profit and popular movie on worldwide and domestic .\n",
    " - Lowest risks: Art House and International & Documentary\n",
    " - Moderate risks: Drama & Comedy & Action Adventure\n",
    " - Highest Risk:Horror"
   ]
  },
  {
   "cell_type": "code",
   "execution_count": null,
   "metadata": {},
   "outputs": [],
   "source": []
  }
 ],
 "metadata": {
  "kernelspec": {
   "display_name": "Python 3",
   "language": "python",
   "name": "python3"
  },
  "language_info": {
   "codemirror_mode": {
    "name": "ipython",
    "version": 3
   },
   "file_extension": ".py",
   "mimetype": "text/x-python",
   "name": "python",
   "nbconvert_exporter": "python",
   "pygments_lexer": "ipython3",
   "version": "3.7.4"
  }
 },
 "nbformat": 4,
 "nbformat_minor": 4
}
